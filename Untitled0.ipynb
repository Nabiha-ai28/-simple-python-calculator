{
  "nbformat": 4,
  "nbformat_minor": 0,
  "metadata": {
    "colab": {
      "provenance": [],
      "authorship_tag": "ABX9TyNgMwyh9lYmBRNYVBc3AfOe",
      "include_colab_link": true
    },
    "kernelspec": {
      "name": "python3",
      "display_name": "Python 3"
    },
    "language_info": {
      "name": "python"
    }
  },
  "cells": [
    {
      "cell_type": "markdown",
      "metadata": {
        "id": "view-in-github",
        "colab_type": "text"
      },
      "source": [
        "<a href=\"https://colab.research.google.com/github/Nabiha-ai28/-simple-python-calculator/blob/main/Untitled0.ipynb\" target=\"_parent\"><img src=\"https://colab.research.google.com/assets/colab-badge.svg\" alt=\"Open In Colab\"/></a>"
      ]
    },
    {
      "cell_type": "code",
      "execution_count": 7,
      "metadata": {
        "colab": {
          "base_uri": "https://localhost:8080/"
        },
        "id": "lzHeYoni620Y",
        "outputId": "7632a502-ae38-447d-d4cf-cc9cb05b7ead"
      },
      "outputs": [
        {
          "output_type": "stream",
          "name": "stdout",
          "text": [
            "Welcome to the simple python calculator!\n",
            "Operations: + - * /\n",
            "Enter the first number: 3\n",
            "Enter an operator(+,-, *, /):/\n",
            "Enter the second number:6\n",
            "Result: 0.5\n"
          ]
        }
      ],
      "source": [
        "# simple calculator in python\n",
        "def add(x, y):\n",
        "    return x + y\n",
        "\n",
        "def subtract(x, y):\n",
        "    return x - y\n",
        "\n",
        "def multiply(x, y):\n",
        "    return x * y\n",
        "\n",
        "def divide(x, y):\n",
        "    return x / y\n",
        "    #prvent division by zero\n",
        "    if y == 0:\n",
        "       return \"Error! Cannot divide by zero.\"\n",
        "    return x / y\n",
        "\n",
        "print(\"Welcome to the simple python calculator!\")\n",
        "print(\"Operations: + - * /\")\n",
        "\n",
        "#get user input\n",
        "num1 = float(input(\"Enter the first number: \"))\n",
        "operator = input(\"Enter an operator(+,-, *, /):\" )\n",
        "num2 = float(input(\"Enter the second number:\"))\n",
        "\n",
        "#Perform calculation based on the operator\n",
        "if operator == \"+\":\n",
        "   result = add(num1, num2)\n",
        "elif operator == \"-\":\n",
        "     result = subtract(num1,num2)\n",
        "elif operator == \"*\":\n",
        "     result = multiply(num1, num2)\n",
        "elif operator == \"/\":\n",
        "     result = divide(num1, num2)\n",
        "else:\n",
        "     result = \"Invalid operator!\"\n",
        "print(\"Result:\", result)"
      ]
    }
  ]
}